{
 "cells": [
  {
   "cell_type": "markdown",
   "id": "b418cd33",
   "metadata": {},
   "source": []
  },
  {
   "cell_type": "code",
   "execution_count": 18,
   "id": "750444c0",
   "metadata": {},
   "outputs": [],
   "source": [
    "import pandas as pd\n",
    "import numpy as np \n",
    "import matplotlib.pyplot as plt\n",
    "import json\n",
    "import spacy\n",
    "import pickle"
   ]
  },
  {
   "cell_type": "code",
   "execution_count": 20,
   "id": "8ff2b6eb",
   "metadata": {},
   "outputs": [],
   "source": [
    "import pytesseract as tess\n",
    "import PIL.Image"
   ]
  },
  {
   "cell_type": "code",
   "execution_count": 21,
   "id": "4a467bca",
   "metadata": {},
   "outputs": [],
   "source": [
    "tess.pytesseract.tesseract_cmd = r'C:\\Users\\Shaik Siddiq\\AppData\\Local\\Programs\\Tesseract-OCR\\tesseract.exe'"
   ]
  },
  {
   "cell_type": "code",
   "execution_count": 22,
   "id": "160dfa03",
   "metadata": {},
   "outputs": [],
   "source": [
    "text = tess.image_to_string(PIL.Image.open(\"S:\\\\image content recognizer\\\\model\\\\images\\\\img-3.jpg\"))"
   ]
  },
  {
   "cell_type": "code",
   "execution_count": 23,
   "id": "d3e58a47",
   "metadata": {
    "scrolled": true
   },
   "outputs": [
    {
     "name": "stdout",
     "output_type": "stream",
     "text": [
      "LOCAL HIRING - URGENT-\n",
      "\n",
      "Reputed Security Company in Doha\n",
      "is looking for professional individuals;\n",
      "\n",
      "1. Sales Executive - Female Filipino & Male Any nationality.\n",
      "2. Digital Marketing Officer - Male or Female. Any Nationality\n",
      "3. Facility Officer - Male Any nationality\n",
      "\n",
      "with 2 years minimum of experience in same position,\n",
      "Qatar Driving license will be added advantage\n",
      "\n",
      "Email: recruitmentcareer.qa@ gmail.com\n",
      "Only shortlisted candidate will be notified.\n",
      "\n",
      "\n"
     ]
    }
   ],
   "source": [
    "print(text)"
   ]
  },
  {
   "cell_type": "code",
   "execution_count": 24,
   "id": "5147e879",
   "metadata": {},
   "outputs": [],
   "source": [
    "nlp = spacy.load('en_core_web_sm')\n",
    "# nlp = en_core_web_sm.load()\n",
    "\n",
    "def preprocess_text(text):\n",
    "    doc = nlp(text)\n",
    "    tokens = [token.text.lower() for token in doc if not token.is_stop and not token.is_punct]\n",
    "    return tokens\n"
   ]
  },
  {
   "cell_type": "code",
   "execution_count": null,
   "metadata": {},
   "outputs": [],
   "source": []
  },
  {
   "cell_type": "code",
   "execution_count": 25,
   "id": "61d5c9b6",
   "metadata": {},
   "outputs": [],
   "source": [
    "def extract_information(text, keywords):\n",
    "    preprocessed_text = preprocess_text(text)\n",
    "    information = {}\n",
    "\n",
    "    for keyword in keywords:\n",
    "        if keyword in preprocessed_text:\n",
    "            # You can extract information related to the keyword here\n",
    "            # For example, you can extract sentences containing the keyword\n",
    "            sentences_containing_keyword = [sent.text for sent in nlp(text).sents if keyword in preprocess_text(sent.text)]\n",
    "            information[keyword] = sentences_containing_keyword\n",
    "\n",
    "    return information\n"
   ]
  },
  {
   "cell_type": "code",
   "execution_count": 26,
   "id": "2d11322e",
   "metadata": {},
   "outputs": [
    {
     "name": "stdout",
     "output_type": "stream",
     "text": [
      "{'company': 'LOCAL HIRING - URGENT-\\n\\nReputed Security Company in Doha\\nis looking for professional individuals;\\n\\n1.'}\n",
      "{'experience': 'Facility Officer - Male Any nationality\\n\\nwith 2 years minimum of experience in same position,\\nQatar Driving license will be added advantage\\n\\nEmail: recruitmentcareer.qa@ gmail.com\\nOnly shortlisted candidate will be notified.\\n\\n'}\n",
      "{'officer': 'Facility Officer - Male Any nationality\\n\\nwith 2 years minimum of experience in same position,\\nQatar Driving license will be added advantage\\n\\nEmail: recruitmentcareer.qa@ gmail.com\\nOnly shortlisted candidate will be notified.\\n\\n'}\n"
     ]
    }
   ],
   "source": [
    "keywords = [\"company\",\"experience\",\"officer\",\"gmail\"]\n",
    "information = extract_information(text, keywords)\n",
    "json_data = {}\n",
    "for keyword, sentences in information.items():\n",
    "#     print(f\"Keyword: {keyword}\")\n",
    "    \n",
    "    for sentence in sentences:\n",
    "        sentence\n",
    "    \n",
    "    \n",
    "    data_dict = {keyword: sentence}\n",
    "    json_data = json.dumps(data_dict)\n",
    "    json_object = json.loads(json_data)\n",
    "    print(json_object)\n",
    "    file_path = 'output.json'\n",
    "    try:\n",
    "        with open(file_path, 'r') as file:\n",
    "            existing_data = json.load(file)\n",
    "            \n",
    "    except FileNotFoundError:\n",
    "        existing_data = {}\n",
    "    existing_data.update(json_object)\n",
    "\n",
    "with open(file_path, 'w') as file:\n",
    "    json.dump(json_object, file, indent=2)\n",
    "# print(json_object)"
   ]
  },
  {
   "cell_type": "markdown",
   "id": "6b0f0a0f",
   "metadata": {},
   "source": [
    "# info extraction"
   ]
  },
  {
   "cell_type": "code",
   "execution_count": 27,
   "id": "df4c960b",
   "metadata": {},
   "outputs": [
    {
     "data": {
      "text/plain": [
       "{'company': ['LOCAL HIRING - URGENT-\\n\\nReputed Security Company in Doha\\nis looking for professional individuals;\\n\\n1.'],\n",
       " 'experience': ['Facility Officer - Male Any nationality\\n\\nwith 2 years minimum of experience in same position,\\nQatar Driving license will be added advantage\\n\\nEmail: recruitmentcareer.qa@ gmail.com\\nOnly shortlisted candidate will be notified.\\n\\n'],\n",
       " 'officer': ['Digital Marketing Officer - Male or Female.',\n",
       "  'Facility Officer - Male Any nationality\\n\\nwith 2 years minimum of experience in same position,\\nQatar Driving license will be added advantage\\n\\nEmail: recruitmentcareer.qa@ gmail.com\\nOnly shortlisted candidate will be notified.\\n\\n']}"
      ]
     },
     "execution_count": 27,
     "metadata": {},
     "output_type": "execute_result"
    }
   ],
   "source": [
    "information"
   ]
  },
  {
   "cell_type": "code",
   "execution_count": null,
   "id": "0813a94e",
   "metadata": {},
   "outputs": [],
   "source": []
  }
 ],
 "metadata": {
  "kernelspec": {
   "display_name": "Python 3 (ipykernel)",
   "language": "python",
   "name": "python3"
  },
  "language_info": {
   "codemirror_mode": {
    "name": "ipython",
    "version": 3
   },
   "file_extension": ".py",
   "mimetype": "text/x-python",
   "name": "python",
   "nbconvert_exporter": "python",
   "pygments_lexer": "ipython3",
   "version": "3.9.13"
  }
 },
 "nbformat": 4,
 "nbformat_minor": 5
}
